{
 "cells": [
  {
   "cell_type": "code",
   "execution_count": null,
   "id": "12743cc1-7180-404a-a433-75ca1dff9a2a",
   "metadata": {},
   "outputs": [],
   "source": [
    "!sjef -s molpro erase he"
   ]
  },
  {
   "cell_type": "code",
   "execution_count": null,
   "id": "111679db-932a-42bf-8964-f54b687bc35f",
   "metadata": {},
   "outputs": [],
   "source": [
    "!sjef -s molpro new he"
   ]
  },
  {
   "cell_type": "code",
   "execution_count": 3,
   "id": "34b37425-36c6-4e51-887e-efd0200a16ab",
   "metadata": {},
   "outputs": [],
   "source": [
    "!sjef -s molpro import he he.inp"
   ]
  },
  {
   "cell_type": "code",
   "execution_count": 5,
   "id": "13a9b707-69ed-47ba-bc7e-105e8db99141",
   "metadata": {},
   "outputs": [
    {
     "name": "stdout",
     "output_type": "stream",
     "text": [
      "/mnt/ssd1/tmp/nickw/sjef-backend/16862319908977895188\n"
     ]
    }
   ],
   "source": [
    "!sjef -s molpro -b marat run he"
   ]
  },
  {
   "cell_type": "code",
   "execution_count": 6,
   "id": "9cb44466-a5bc-439c-9827-a8caf00a9ae7",
   "metadata": {},
   "outputs": [
    {
     "name": "stdout",
     "output_type": "stream",
     "text": [
      "/mnt/ssd1/tmp/nickw/sjef-backend/16862319908977895188\n",
      "Completed\n"
     ]
    }
   ],
   "source": [
    "!sjef -s molpro status he"
   ]
  },
  {
   "cell_type": "code",
   "execution_count": 7,
   "id": "9492e260-79e2-4c88-be27-6e1640a27889",
   "metadata": {},
   "outputs": [
    {
     "name": "stderr",
     "output_type": "stream",
     "text": [
      "'eval' is not recognized as an internal or external command,\n",
      "operable program or batch file.\n"
     ]
    }
   ],
   "source": [
    "!sjef -s molpro browse he"
   ]
  },
  {
   "cell_type": "code",
   "execution_count": null,
   "id": "b5cb877d-b486-49ae-b540-19e4991f7448",
   "metadata": {},
   "outputs": [],
   "source": []
  }
 ],
 "metadata": {
  "kernelspec": {
   "display_name": "Python 3 (ipykernel)",
   "language": "python",
   "name": "python3"
  },
  "language_info": {
   "codemirror_mode": {
    "name": "ipython",
    "version": 3
   },
   "file_extension": ".py",
   "mimetype": "text/x-python",
   "name": "python",
   "nbconvert_exporter": "python",
   "pygments_lexer": "ipython3",
   "version": "3.11.0"
  }
 },
 "nbformat": 4,
 "nbformat_minor": 5
}
