{
 "cells": [
  {
   "cell_type": "markdown",
   "metadata": {},
   "source": [
    "# Extract pair correlation energies\n",
    "\n",
    "They come with orbital labels that are the usual Molpro orbital.symmetry convention, with a `-` prefix if beta spin."
   ]
  },
  {
   "cell_type": "code",
   "execution_count": 1,
   "metadata": {
    "tags": []
   },
   "outputs": [],
   "source": [
    "from pymolpro import Project"
   ]
  },
  {
   "cell_type": "code",
   "execution_count": 2,
   "metadata": {
    "collapsed": false,
    "jupyter": {
     "outputs_hidden": false
    },
    "pycharm": {
     "name": "#%%\n"
    }
   },
   "outputs": [],
   "source": [
    "p=Project(\"pair_correlation_energies\")\n",
    "p.write_input(\"geometry={f;h,f,1.732};rhf;mp2;ccsd\")\n",
    "p.run(wait=True)"
   ]
  },
  {
   "cell_type": "code",
   "execution_count": 3,
   "metadata": {
    "collapsed": false,
    "jupyter": {
     "outputs_hidden": false
    },
    "pycharm": {
     "name": "#%%\n"
    }
   },
   "outputs": [
    {
     "name": "stdout",
     "output_type": "stream",
     "text": [
      "MP2 0 -0.20160733244673 0.20160733244673\n",
      "CCSD 0 -0.206795741784684 0.206795741784684\n"
     ]
    }
   ],
   "source": [
    "for method in [\"MP2\", \"CCSD\"]:\n",
    "    pair_energies=[float(s) for s in p.xpath('//jobstep[@command=\"'+method+'\"]/pair/@energy')]\n",
    "    first_orbitals=p.xpath('//jobstep[@command=\"'+method+'\"]/pair/@orbital1')\n",
    "    second_orbitals=p.xpath('//jobstep[@command=\"'+method+'\"]/pair/@orbital2')\n",
    "    correlation_energy=float(p.xpath('//jobstep[@command=\"'+method+'\"]/property[@name=\"correlation energy\"]/@value')[0])\n",
    "    print(method,sum(pair_energies),correlation_energy,sum(pair_energies)-correlation_energy)"
   ]
  },
  {
   "cell_type": "code",
   "execution_count": 4,
   "metadata": {
    "collapsed": false,
    "jupyter": {
     "outputs_hidden": false
    },
    "pycharm": {
     "name": "#%%\n"
    }
   },
   "outputs": [
    {
     "name": "stdout",
     "output_type": "stream",
     "text": [
      "MP2\n",
      "CCSD\n"
     ]
    }
   ],
   "source": [
    "for method in [\"MP2\", \"CCSD\"]:\n",
    "    pair_energies=[float(s) for s in p.xpath('//jobstep[@command=\"'+method+'\"]/pair/@energy')]\n",
    "    print(method)\n",
    "    for i in range(len(pair_energies)):\n",
    "        print(first_orbitals[i],second_orbitals[i],pair_energies[i])"
   ]
  },
  {
   "cell_type": "code",
   "execution_count": 11,
   "metadata": {
    "collapsed": false,
    "jupyter": {
     "outputs_hidden": false
    },
    "pycharm": {
     "name": "#%%\n"
    }
   },
   "outputs": [
    {
     "data": {
      "text/plain": [
       "[]"
      ]
     },
     "execution_count": 11,
     "metadata": {},
     "output_type": "execute_result"
    }
   ],
   "source": [
    "method=\"MP2\"\n",
    "p.xpath('//jobstep[@command=\"'+method+'\"]/pair/@Energy')"
   ]
  },
  {
   "cell_type": "code",
   "execution_count": 8,
   "metadata": {
    "collapsed": false,
    "jupyter": {
     "outputs_hidden": false
    },
    "pycharm": {
     "name": "#%%\n"
    }
   },
   "outputs": [
    {
     "data": {
      "text/plain": [
       "'<?xml version=\"1.0\"?>\\n<molpro xmlns=\"http://www.molpro.net/schema/molpro-output\"\\n  xmlns:xsd=\"http://www.w3.org/1999/XMLSchema\"\\n  xmlns:cml=\"http://www.xml-cml.org/schema\"\\n  xmlns:stm=\"http://www.xml-cml.org/schema\"\\n  xmlns:xhtml=\"http://www.w3.org/1999/xhtml\">\\n <job>\\n  <jobstep command=\"RHF-SCF\" commandset=\"SCFPRO\">\\n   <cml:molecule>\\n    <cml:symmetry pointGroup=\"C2v\">\\n     <cml:transform3 title=\"generator\" id=\"X\">\\n      -1  0  0  0  0  1  0  0  0  0  1  0  0  0  0  1\\n     </cml:transform3>\\n     <cml:transform3 title=\"generator\" id=\"Y\">\\n       1  0  0  0  0 -1  0  0  0  0  1  0  0  0  0  1\\n     </cml:transform3>\\n    </cml:symmetry>\\n    <cml:atomArray>\\n     <cml:atom id=\"a1\" elementType=\"F\" x3=\"0.0\" y3=\"0.0\" z3=\"-0.461759661234695E-01\"/>\\n     <cml:atom id=\"a2\" elementType=\"H\" x3=\"0.0\" y3=\"0.0\" z3=\"0.870358963160526\"/>\\n    </cml:atomArray>\\n    <cml:bondArray>\\n     <cml:bond atomRefs2=\"a1 a2\"/>\\n    </cml:bondArray>\\n   </cml:molecule>\\n   <property name=\"Energy\" method=\"RHF\" principal=\"true\" stateSymmetry=\"1\" stateNumber=\"1\"\\n     value=\"-100.019428415109\"/>\\n   <property name=\"One-electron energy\" method=\"RHF\" value=\"-150.697485188463\"/>\\n   <property name=\"Two-electron energy\" method=\"RHF\" value=\"45.4817519234699\"/>\\n   <property name=\"Kinetic energy\" method=\"RHF\" value=\"100.026753284819\"/>\\n   <property name=\"Nuclear energy\" method=\"RHF\" value=\"5.19630484988453\"/>\\n   <property name=\"Virial quotient\" method=\"RHF\" value=\"-0.999926770894096\"/>\\n   <property name=\"Dipole moment\" method=\"RHF\" principal=\"true\" stateSymmetry=\"1\"\\n     stateNumber=\"1\" value=\"0.0 0.0 0.766655859078713\"/>\\n   <time start=\"10:47:37\" end=\"10:47:38\" cpu=\"1.0\" system=\"1.0\" real=\"1.0\"/>\\n   <storage units=\"megabyte\" memory=\"0.0\" sf=\"0.0\" df=\"33.09\" eaf=\"0.0\"/>\\n   <summary overall_method=\"RHF/cc-pVDZ\"/>\\n  </jobstep>\\n  <jobstep command=\"MP2\" commandset=\"CCSD\">\\n   <property name=\"energy\" method=\"Reference\" stateSymmetry=\"1\" stateNumber=\"1\"\\n     value=\"-100.019428415109\"/>\\n   <property name=\"singlet pair energy\" method=\"MP2\" stateSymmetry=\"1\" stateNumber=\"1\"\\n     value=\"-0.121378520061427\"/>\\n   <property name=\"triplet pair energy\" method=\"MP2\" stateSymmetry=\"1\" stateNumber=\"1\"\\n     value=\"-0.802288123853032E-01\"/>\\n   <property name=\"correlation energy\" method=\"MP2\" stateSymmetry=\"1\" stateNumber=\"1\"\\n     value=\"-0.20160733244673\"/>\\n   <property name=\"total energy\" method=\"MP2\" principal=\"true\" stateSymmetry=\"1\"\\n     stateNumber=\"1\" value=\"-100.221035747556\"/>\\n   <time start=\"10:47:38\" end=\"10:47:38\" cpu=\"0.0\" system=\"0.0\" real=\"0.0\"/>\\n   <storage units=\"megabyte\" memory=\"0.0\" sf=\"0.0\" df=\"33.09\" eaf=\"0.0\"/>\\n   <summary overall_method=\"MP2/cc-pVDZ\"/>\\n  </jobstep>\\n  <jobstep command=\"CCSD\" commandset=\"CCSD\">\\n   <property name=\"energy\" method=\"Reference\" stateSymmetry=\"1\" stateNumber=\"1\"\\n     value=\"-100.019428415109\"/>\\n   <property name=\"singlet pair energy\" method=\"CCSD\" stateSymmetry=\"1\" stateNumber=\"1\"\\n     value=\"-0.134989809733135\"/>\\n   <property name=\"triplet pair energy\" method=\"CCSD\" stateSymmetry=\"1\" stateNumber=\"1\"\\n     value=\"-0.718059379801499E-01\"/>\\n   <property name=\"correlation energy\" method=\"CCSD\" stateSymmetry=\"1\" stateNumber=\"1\"\\n     value=\"-0.206795741784684\"/>\\n   <property name=\"total energy\" method=\"CCSD\" principal=\"true\" stateSymmetry=\"1\"\\n     stateNumber=\"1\" value=\"-100.226224156894\"/>\\n   <time start=\"10:47:38\" end=\"10:47:38\" cpu=\"0.0\" system=\"0.0\" real=\"0.0\"/>\\n   <storage units=\"megabyte\" memory=\"0.0\" sf=\"0.0\" df=\"33.09\" eaf=\"0.0\"/>\\n   <summary overall_method=\"CCSD/cc-pVDZ\"/>\\n  </jobstep>\\n  <stm:metadataList>\\n   <stm:metadata name=\"dc:date\" content=\"2022-11-17T10:47:38+00:00\"/>\\n   <stm:metadata name=\"cmlm:insilico\" content=\"Molpro\"/>\\n  </stm:metadataList>\\n  <platform>\\n   <version major=\"2022\" minor=\"2\" SHA=\"51306cdc306ce2a111a2867affebcb289530e0a7\"\\n     integer_bits=\"64\" parallelism=\"serial\">\\n    2022.2\\n    <date year=\"2022\" month=\"11\" day=\"17\" hour=\"10\" minute=\"47\" second=\"37\">\\n     2022-11-17T10:47:37\\n    </date>\\n   </version>\\n   <licence id=\"cardiff\"/>\\n   <parallel processes=\"1\" nodes=\"1\" all_processes=\"1\" openmp=\"1\"/>\\n   <dimensions natom=\"400\" nvalence=\"500\" nvalence_pno=\"1000\" nbasis=\"12000\" nstate=\"100\"\\n     nsymm=\"16\" nrec=\"512\" nprim=\"2\" ncol=\"100\"/>\\n  </platform>\\n  <input>\\n   <p>geometry={f;h,f,1.732};rhf;mp2;ccsd</p>\\n  </input>\\n  <diagnostics warnings=\"0\"/>\\n </job>\\n</molpro>\\n'"
      ]
     },
     "execution_count": 8,
     "metadata": {},
     "output_type": "execute_result"
    }
   ],
   "source": [
    "p.xml"
   ]
  },
  {
   "cell_type": "code",
   "execution_count": null,
   "metadata": {},
   "outputs": [],
   "source": []
  }
 ],
 "metadata": {
  "kernelspec": {
   "display_name": "Python 3 (ipykernel)",
   "language": "python",
   "name": "python3"
  },
  "language_info": {
   "codemirror_mode": {
    "name": "ipython",
    "version": 3
   },
   "file_extension": ".py",
   "mimetype": "text/x-python",
   "name": "python",
   "nbconvert_exporter": "python",
   "pygments_lexer": "ipython3",
   "version": "3.11.0"
  }
 },
 "nbformat": 4,
 "nbformat_minor": 4
}
