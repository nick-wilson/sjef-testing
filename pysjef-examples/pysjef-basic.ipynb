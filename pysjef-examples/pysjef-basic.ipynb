{
 "cells": [
  {
   "cell_type": "code",
   "execution_count": 1,
   "id": "35a4110d-de35-4b88-b84c-f34489caf267",
   "metadata": {},
   "outputs": [],
   "source": [
    "!sjef -s molpro erase co"
   ]
  },
  {
   "cell_type": "code",
   "execution_count": 2,
   "id": "0ad53cc0-dd00-44f3-9f65-f857805997ad",
   "metadata": {
    "scrolled": true
   },
   "outputs": [],
   "source": [
    "from pysjef import Project\n",
    "import pymolpro"
   ]
  },
  {
   "cell_type": "code",
   "execution_count": 3,
   "id": "1e93f709-a9f6-4c9e-88f2-a1de56df2074",
   "metadata": {},
   "outputs": [],
   "source": [
    "p=Project(\"co\")"
   ]
  },
  {
   "cell_type": "code",
   "execution_count": 4,
   "id": "bee563c9-10b4-4a53-8b1a-ebae9a0adfed",
   "metadata": {},
   "outputs": [],
   "source": [
    "p.write_input(\n",
    "f\"\"\"memory,1,g;\n",
    "angstrom;geometry={{\n",
    "C;O,C,1.12887680\n",
    "}}\n",
    "basis = cc-pCV5Z\n",
    "rhf;{{mp2;core}}\n",
    "ccsd(t)\n",
    "optg\n",
    "\"\"\")"
   ]
  },
  {
   "cell_type": "code",
   "execution_count": 4,
   "id": "fc8c651f-7170-4f86-b666-d6453cb89c39",
   "metadata": {},
   "outputs": [],
   "source": [
    "p.write_input(\n",
    "f\"\"\"memory,1,g;\n",
    "angstrom;geometry={{\n",
    "C;O,C,1.12887680\n",
    "}}\n",
    "basis = cc-pCVTZ\n",
    "rhf;{{mp2;core}}\n",
    "ccsd(t)\n",
    "\"\"\")"
   ]
  },
  {
   "cell_type": "raw",
   "id": "6436550b-c06b-45e7-ac35-4161c9966b7d",
   "metadata": {},
   "source": [
    "p.run(backend=\"local\",wait=True,force=True)"
   ]
  },
  {
   "cell_type": "raw",
   "id": "c9a6b504-1a20-4f9a-9479-774cba9d6dd1",
   "metadata": {},
   "source": [
    "p.run(backend=\"local\")"
   ]
  },
  {
   "cell_type": "code",
   "execution_count": null,
   "id": "db2da85b-a997-4811-b5bb-c37488d37b8f",
   "metadata": {},
   "outputs": [],
   "source": [
    "p.run(backend=\"marat\",force=True,wait=True,verbosity=6)"
   ]
  },
  {
   "cell_type": "code",
   "execution_count": 5,
   "id": "7768105c-6a5f-4f7f-b8f0-f28db3bdcb2e",
   "metadata": {},
   "outputs": [],
   "source": [
    "p.run(backend=\"marat\",verbosity=6)"
   ]
  },
  {
   "cell_type": "raw",
   "id": "c0b0f5cf-85ab-4455-b263-df126d2910ce",
   "metadata": {},
   "source": [
    "p.run(backend=\"hawk\",force=True,wait=True,verbosity=4)"
   ]
  },
  {
   "cell_type": "code",
   "execution_count": 5,
   "id": "ec14fb20-7f1d-464a-9205-17f07b7da56d",
   "metadata": {},
   "outputs": [],
   "source": [
    "p.run(backend=\"marat\")"
   ]
  },
  {
   "cell_type": "code",
   "execution_count": 6,
   "id": "42185482-430f-4834-9ce5-f2ffc20284c1",
   "metadata": {},
   "outputs": [
    {
     "data": {
      "text/plain": [
       "'running'"
      ]
     },
     "execution_count": 6,
     "metadata": {},
     "output_type": "execute_result"
    }
   ],
   "source": [
    "p.status"
   ]
  },
  {
   "cell_type": "raw",
   "id": "96f443f2-33ac-4495-8c19-e2c8665773ac",
   "metadata": {},
   "source": [
    "p.kill()"
   ]
  },
  {
   "cell_type": "code",
   "execution_count": 8,
   "id": "fae76ec6-6f26-42cf-924c-0ba47165f25d",
   "metadata": {},
   "outputs": [
    {
     "data": {
      "text/plain": [
       "'<?xml version=\"1.0\"?>\\n<molpro xmlns=\"http://www.molpro.net/schema/molpro-output\"\\n  xmlns:xsd=\"http://www.w3.org/1999/XMLSchema\"\\n  xmlns:cml=\"http://www.xml-cml.org/schema\"\\n  xmlns:stm=\"http://www.xml-cml.org/schema\"\\n  xmlns:xhtml=\"http://www.w3.org/1999/xhtml\">\\n <job>\\n  <jobstep command=\"RHF-SCF\" commandset=\"SCFPRO\">\\n   <cml:molecule>\\n    <cml:symmetry pointGroup=\"C2v\">\\n     <cml:transform3 title=\"generator\" id=\"X\">\\n      -1  0  0  0  0  1  0  0  0  0  1  0  0  0  0  1\\n     </cml:transform3>\\n     <cml:transform3 title=\"generator\" id=\"Y\">\\n       1  0  0  0  0 -1  0  0  0  0  1  0  0  0  0  1\\n     </cml:transform3>\\n    </cml:symmetry>\\n    <cml:atomArray>\\n     <cml:atom id=\"a1\" elementType=\"C\" x3=\"0.0\" y3=\"0.0\" z3=\"-0.644808766526719\"/>\\n     <cml:atom id=\"a2\" elementType=\"O\" x3=\"0.0\" y3=\"0.0\" z3=\"0.484068033473281\"/>\\n    </cml:atomArray>\\n    <cml:bondArray>\\n     <cml:bond atomRefs2=\"a1 a2\"/>\\n    </cml:bondArray>\\n   </cml:molecule>\\n   <property name=\"Energy\" method=\"RHF\" principal=\"true\" stateSymmetry=\"1\" stateNumber=\"1\"\\n     value=\"-112.781206803896\"/>\\n   <property name=\"One-electron energy\" method=\"RHF\" value=\"-198.204012720323\"/>\\n   <property name=\"Two-electron energy\" method=\"RHF\" value=\"62.9221166265553\"/>\\n   <property name=\"Kinetic energy\" method=\"RHF\" value=\"112.629735056948\"/>\\n   <property name=\"Nuclear energy\" method=\"RHF\" value=\"22.5006892898711\"/>\\n   <property name=\"Virial quotient\" method=\"RHF\" value=\"-1.00134486462986\"/>\\n   <property name=\"Dipole moment\" method=\"RHF\" principal=\"true\" stateSymmetry=\"1\"\\n     stateNumber=\"1\" value=\"0.0 0.0 -0.102996159254327\"/>\\n   <time start=\"16:23:55\" end=\"16:23:56\" cpu=\"0.8\" system=\"0.62\" real=\"1.43\"/>\\n   <storage units=\"megabyte\" memory=\"0.0\" sf=\"0.0\" df=\"53.55\" eaf=\"0.0\"/>\\n   <summary overall_method=\"RHF/cc-pCVTZ\"/>\\n  </jobstep>\\n  <jobstep command=\"MP2\" commandset=\"CCSD\">\\n   <property name=\"energy\" method=\"Reference\" stateSymmetry=\"1\" stateNumber=\"1\"\\n     value=\"-112.781206803896\"/>\\n   <property name=\"core-core energy\" method=\"MP2\" stateSymmetry=\"1\" stateNumber=\"1\"\\n     value=\"-0.720475108656316E-01\"/>\\n   <property name=\"core-valence energy\" method=\"MP2\" stateSymmetry=\"1\" stateNumber=\"1\"\\n     value=\"-0.272586697067126E-01\"/>\\n   <property name=\"valence correlation energy\" method=\"MP2\" stateSymmetry=\"1\"\\n     stateNumber=\"1\" value=\"-0.360155720825627\"/>\\n   <property name=\"singlet pair energy\" method=\"MP2\" stateSymmetry=\"1\" stateNumber=\"1\"\\n     value=\"-0.306980925869297\"/>\\n   <property name=\"triplet pair energy\" method=\"MP2\" stateSymmetry=\"1\" stateNumber=\"1\"\\n     value=\"-0.152480975528674\"/>\\n   <property name=\"correlation energy\" method=\"MP2\" stateSymmetry=\"1\" stateNumber=\"1\"\\n     value=\"-0.459461901397971\"/>\\n   <property name=\"total energy\" method=\"MP2\" principal=\"true\" stateSymmetry=\"1\"\\n     stateNumber=\"1\" value=\"-113.240668705294\"/>\\n   <time start=\"16:23:56\" end=\"16:23:56\" cpu=\"0.04\" system=\"0.0\" real=\"0.05\"/>\\n   <storage units=\"megabyte\" memory=\"0.0\" sf=\"0.0\" df=\"53.55\" eaf=\"0.0\"/>\\n   <summary overall_method=\"MP2/cc-pCVTZ\"/>\\n  </jobstep>\\n  <jobstep command=\"CCSD(T)\" commandset=\"CCSD\">\\n   <property name=\"energy\" method=\"Reference\" stateSymmetry=\"1\" stateNumber=\"1\"\\n     value=\"-112.781206803896\"/>\\n   <property name=\"core-core energy\" method=\"CCSD\" stateSymmetry=\"1\" stateNumber=\"1\"\\n     value=\"-0.753021544261474E-01\"/>\\n   <property name=\"core-valence energy\" method=\"CCSD\" stateSymmetry=\"1\" stateNumber=\"1\"\\n     value=\"-0.282344231904942E-01\"/>\\n   <property name=\"valence correlation energy\" method=\"CCSD\" stateSymmetry=\"1\"\\n     stateNumber=\"1\" value=\"-0.361272751839388\"/>\\n   <property name=\"singlet pair energy\" method=\"CCSD\" stateSymmetry=\"1\" stateNumber=\"1\"\\n     value=\"-0.331795938367052\"/>\\n   <property name=\"triplet pair energy\" method=\"CCSD\" stateSymmetry=\"1\" stateNumber=\"1\"\\n     value=\"-0.133013337196597\"/>\\n   <property name=\"correlation energy\" method=\"CCSD\" stateSymmetry=\"1\" stateNumber=\"1\"\\n     value=\"-0.464809329456029\"/>\\n   <property name=\"contribution\" method=\"Triples (T)\" stateSymmetry=\"1\" stateNumber=\"1\"\\n     value=\"-0.18105089690265E-01\"/>\\n   <property name=\"correlation energy\" method=\"Total\" stateSymmetry=\"1\" stateNumber=\"1\"\\n     value=\"-0.482914419146294\"/>\\n   <property name=\"total energy\" method=\"CCSD\" stateSymmetry=\"1\" stateNumber=\"1\"\\n     value=\"-113.246016133352\"/>\\n   <property name=\"energy\" method=\"CCSD[T]\" stateSymmetry=\"1\" stateNumber=\"1\"\\n     value=\"-113.26560976672\"/>\\n   <property name=\"energy\" method=\"CCSD-T\" stateSymmetry=\"1\" stateNumber=\"1\"\\n     value=\"-113.263566927066\"/>\\n   <property name=\"total energy\" method=\"CCSD(T)\" principal=\"true\" stateSymmetry=\"1\"\\n     stateNumber=\"1\" value=\"-113.264121223043\"/>\\n   <time start=\"16:23:56\" end=\"16:23:57\" cpu=\"0.6\" system=\"0.08\" real=\"0.67\"/>\\n   <storage units=\"megabyte\" memory=\"0.0\" sf=\"0.0\" df=\"53.55\" eaf=\"0.0\"/>\\n   <summary overall_method=\"CCSD(T)/cc-pCVTZ\"/>\\n  </jobstep>\\n  <stm:metadataList>\\n   <stm:metadata name=\"dc:date\" content=\"2022-11-17T16:23:57+00:00\"/>\\n   <stm:metadata name=\"dc:creator\" content=\"nickw\"/>\\n   <stm:metadata name=\"cmlm:insilico\" content=\"Molpro\"/>\\n  </stm:metadataList>\\n  <platform>\\n   <version major=\"2022\" minor=\"3\" SHA=\"80aa2641dcb5940defbcac9b321e5f879f449aab\"\\n     integer_bits=\"64\" parallelism=\"serial\">\\n    2022.3\\n    <date year=\"2022\" month=\"11\" day=\"17\" hour=\"16\" minute=\"23\" second=\"55\">\\n     2022-11-17T16:23:55\\n    </date>\\n   </version>\\n   <licence id=\"cardiff\"/>\\n   <parallel processes=\"1\" nodes=\"1\" all_processes=\"1\" openmp=\"1\"/>\\n   <dimensions natom=\"400\" nvalence=\"500\" nvalence_pno=\"1000\" nbasis=\"12000\" nstate=\"100\"\\n     nsymm=\"16\" nrec=\"512\" nprim=\"2\" ncol=\"100\"/>\\n  </platform>\\n  <input>\\n   <p>memory,1,g;</p>\\n   <p>angstrom;geometry={</p>\\n   <p>C;O,C,1.12887680</p>\\n   <p>}</p>\\n   <p>basis = cc-pCVTZ</p>\\n   <p>rhf;{mp2;core}</p>\\n   <p>ccsd(t)</p>\\n  </input>\\n  <diagnostics warnings=\"0\"/>\\n </job>\\n</molpro>\\n'"
      ]
     },
     "execution_count": 8,
     "metadata": {},
     "output_type": "execute_result"
    }
   ],
   "source": [
    "p.xml"
   ]
  },
  {
   "cell_type": "code",
   "execution_count": null,
   "id": "94f3aeb9",
   "metadata": {},
   "outputs": [],
   "source": []
  }
 ],
 "metadata": {
  "kernelspec": {
   "display_name": "Python 3 (ipykernel)",
   "language": "python",
   "name": "python3"
  },
  "language_info": {
   "codemirror_mode": {
    "name": "ipython",
    "version": 3
   },
   "file_extension": ".py",
   "mimetype": "text/x-python",
   "name": "python",
   "nbconvert_exporter": "python",
   "pygments_lexer": "ipython3",
   "version": "3.11.0"
  }
 },
 "nbformat": 4,
 "nbformat_minor": 5
}
